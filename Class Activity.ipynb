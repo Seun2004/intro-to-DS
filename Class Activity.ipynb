{
 "cells": [
  {
   "cell_type": "markdown",
   "id": "9a499bfc",
   "metadata": {},
   "source": [
    " ### September 9th 2022"
   ]
  },
  {
   "cell_type": "markdown",
   "id": "4c254b12",
   "metadata": {},
   "source": [
    "## LISTS"
   ]
  },
  {
   "cell_type": "code",
   "execution_count": 5,
   "id": "b7829a27",
   "metadata": {},
   "outputs": [
    {
     "data": {
      "text/plain": [
       "['carrots',\n",
       " 'onions',\n",
       " 'cabbage',\n",
       " 'celery',\n",
       " 'tomato',\n",
       " 'peppers',\n",
       " 'lettuce',\n",
       " 'strawberry',\n",
       " 'pineapple',\n",
       " 'grapefruit']"
      ]
     },
     "execution_count": 5,
     "metadata": {},
     "output_type": "execute_result"
    }
   ],
   "source": [
    "b_list = ['carrots','onions','cabbage','celery','tomato','peppers','lettuce','strawberry','pineapple','grapefruit']\n",
    "b_list"
   ]
  },
  {
   "cell_type": "code",
   "execution_count": 6,
   "id": "2fb2ea44",
   "metadata": {},
   "outputs": [],
   "source": [
    "b_list.append('blueberry')"
   ]
  },
  {
   "cell_type": "code",
   "execution_count": 7,
   "id": "5d208349",
   "metadata": {},
   "outputs": [
    {
     "data": {
      "text/plain": [
       "['carrots',\n",
       " 'onions',\n",
       " 'cabbage',\n",
       " 'celery',\n",
       " 'tomato',\n",
       " 'peppers',\n",
       " 'lettuce',\n",
       " 'strawberry',\n",
       " 'pineapple',\n",
       " 'grapefruit',\n",
       " 'blueberry']"
      ]
     },
     "execution_count": 7,
     "metadata": {},
     "output_type": "execute_result"
    }
   ],
   "source": [
    "b_list"
   ]
  },
  {
   "cell_type": "code",
   "execution_count": 8,
   "id": "e8a1cac9",
   "metadata": {},
   "outputs": [
    {
     "data": {
      "text/plain": [
       "'celery'"
      ]
     },
     "execution_count": 8,
     "metadata": {},
     "output_type": "execute_result"
    }
   ],
   "source": [
    "b_list.pop(3)"
   ]
  },
  {
   "cell_type": "code",
   "execution_count": 9,
   "id": "3758dcbb",
   "metadata": {},
   "outputs": [
    {
     "data": {
      "text/plain": [
       "['carrots',\n",
       " 'onions',\n",
       " 'cabbage',\n",
       " 'tomato',\n",
       " 'peppers',\n",
       " 'lettuce',\n",
       " 'strawberry',\n",
       " 'pineapple',\n",
       " 'grapefruit',\n",
       " 'blueberry']"
      ]
     },
     "execution_count": 9,
     "metadata": {},
     "output_type": "execute_result"
    }
   ],
   "source": [
    "b_list"
   ]
  },
  {
   "cell_type": "code",
   "execution_count": 11,
   "id": "dda1b920",
   "metadata": {},
   "outputs": [
    {
     "data": {
      "text/plain": [
       "'blueberry'"
      ]
     },
     "execution_count": 11,
     "metadata": {},
     "output_type": "execute_result"
    }
   ],
   "source": [
    "b_list[-1]"
   ]
  },
  {
   "cell_type": "markdown",
   "id": "5d1dbafb",
   "metadata": {},
   "source": [
    "## DICTIONARIES"
   ]
  },
  {
   "cell_type": "code",
   "execution_count": 20,
   "id": "014eb86a",
   "metadata": {},
   "outputs": [
    {
     "data": {
      "text/plain": [
       "{'Country': 'Nigeria',\n",
       " 'Age': 17,\n",
       " 'Hair': 'Black',\n",
       " 'Eyes': 'Black',\n",
       " 'Year of Birth': 2004}"
      ]
     },
     "execution_count": 20,
     "metadata": {},
     "output_type": "execute_result"
    }
   ],
   "source": [
    "Person = {'Country':'Nigeria', 'Age':17, 'Hair':'Black', 'Eyes':'Black','Year of Birth': 2004}\n",
    "Person"
   ]
  },
  {
   "cell_type": "code",
   "execution_count": 15,
   "id": "8af83dc3",
   "metadata": {},
   "outputs": [
    {
     "data": {
      "text/plain": [
       "'Nigeria'"
      ]
     },
     "execution_count": 15,
     "metadata": {},
     "output_type": "execute_result"
    }
   ],
   "source": [
    "Person['Country']"
   ]
  },
  {
   "cell_type": "code",
   "execution_count": 21,
   "id": "e5b1fe40",
   "metadata": {},
   "outputs": [
    {
     "data": {
      "text/plain": [
       "{'Country': 'Nigeria',\n",
       " 'Age': 18,\n",
       " 'Hair': 'Black',\n",
       " 'Eyes': 'Black',\n",
       " 'Year of Birth': 2004}"
      ]
     },
     "execution_count": 21,
     "metadata": {},
     "output_type": "execute_result"
    }
   ],
   "source": [
    "Person['Age']=18\n",
    "Person"
   ]
  },
  {
   "cell_type": "code",
   "execution_count": 22,
   "id": "85a49226",
   "metadata": {},
   "outputs": [
    {
     "data": {
      "text/plain": [
       "{'Country': 'Nigeria',\n",
       " 'Age': 18,\n",
       " 'Hair': 'Black',\n",
       " 'Eyes': 'Black',\n",
       " 'Year of Birth': 2004,\n",
       " 'Tribe': 'Yoruba'}"
      ]
     },
     "execution_count": 22,
     "metadata": {},
     "output_type": "execute_result"
    }
   ],
   "source": [
    "Person['Tribe']='Yoruba'\n",
    "Person"
   ]
  },
  {
   "cell_type": "code",
   "execution_count": null,
   "id": "b2c0b9c0",
   "metadata": {},
   "outputs": [],
   "source": []
  }
 ],
 "metadata": {
  "kernelspec": {
   "display_name": "Python 3 (ipykernel)",
   "language": "python",
   "name": "python3"
  },
  "language_info": {
   "codemirror_mode": {
    "name": "ipython",
    "version": 3
   },
   "file_extension": ".py",
   "mimetype": "text/x-python",
   "name": "python",
   "nbconvert_exporter": "python",
   "pygments_lexer": "ipython3",
   "version": "3.9.12"
  }
 },
 "nbformat": 4,
 "nbformat_minor": 5
}
