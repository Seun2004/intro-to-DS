{
 "cells": [
  {
   "cell_type": "markdown",
   "id": "a4e4f422",
   "metadata": {},
   "source": [
    "* floats: decimals, rationals, irrationals\n",
    "* Exp is  $\\pi\\ $, $\\frac{1}{3}$\n"
   ]
  },
  {
   "cell_type": "markdown",
   "id": "b11c2d86",
   "metadata": {},
   "source": [
    "* strings: example \"moussa\", \"howard\", '', '2'"
   ]
  },
  {
   "cell_type": "markdown",
   "id": "4eefdb11",
   "metadata": {},
   "source": [
    "* variable assignment: never do this $->$ 2x = \"Hello\"\n",
    "    \n",
    "* can do this x2=\"Hello\", x_2=\"Hello\"\n",
    "\n",
    "* dont do this 10 = x but x = 10 \n",
    "\n",
    "* dont do this y = \"world\""
   ]
  },
  {
   "cell_type": "code",
   "execution_count": 2,
   "id": "88e51988",
   "metadata": {},
   "outputs": [
    {
     "ename": "SyntaxError",
     "evalue": "cannot assign to literal (3755834886.py, line 1)",
     "output_type": "error",
     "traceback": [
      "\u001b[1;36m  Input \u001b[1;32mIn [2]\u001b[1;36m\u001b[0m\n\u001b[1;33m    20 = x\u001b[0m\n\u001b[1;37m    ^\u001b[0m\n\u001b[1;31mSyntaxError\u001b[0m\u001b[1;31m:\u001b[0m cannot assign to literal\n"
     ]
    }
   ],
   "source": [
    "20 = x\n",
    "\n",
    "print(x)"
   ]
  },
  {
   "cell_type": "code",
   "execution_count": 1,
   "id": "defc9757",
   "metadata": {},
   "outputs": [
    {
     "name": "stdout",
     "output_type": "stream",
     "text": [
      "2\n"
     ]
    }
   ],
   "source": [
    "print('2')"
   ]
  },
  {
   "cell_type": "code",
   "execution_count": 3,
   "id": "e9a37c28",
   "metadata": {},
   "outputs": [
    {
     "name": "stdout",
     "output_type": "stream",
     "text": [
      "<class 'str'>\n"
     ]
    }
   ],
   "source": [
    "print(type('I am single quotes'))"
   ]
  },
  {
   "cell_type": "markdown",
   "id": "1ec3c674",
   "metadata": {},
   "source": [
    "* Printing "
   ]
  },
  {
   "cell_type": "code",
   "execution_count": 4,
   "id": "a28490c3",
   "metadata": {},
   "outputs": [
    {
     "name": "stdout",
     "output_type": "stream",
     "text": [
      "Moussa Doumbia\n"
     ]
    }
   ],
   "source": [
    "Name = 'Moussa Doumbia'\n",
    "print(Name)"
   ]
  },
  {
   "cell_type": "code",
   "execution_count": 5,
   "id": "61585a3c",
   "metadata": {},
   "outputs": [
    {
     "data": {
      "text/plain": [
       "'Moussa Doumbia'"
      ]
     },
     "execution_count": 5,
     "metadata": {},
     "output_type": "execute_result"
    }
   ],
   "source": [
    "Name"
   ]
  },
  {
   "cell_type": "code",
   "execution_count": 19,
   "id": "5bc5b57c",
   "metadata": {},
   "outputs": [
    {
     "name": "stdout",
     "output_type": "stream",
     "text": [
      "Greetings, John  Snow Welcome to our company\n"
     ]
    }
   ],
   "source": [
    "Greetings = \"Hello!\"\n",
    "New_First = \"John \"\n",
    "New_Last = \"Snow\"\n",
    "print(\"Greetings,\" , New_First, New_Last,'Welcome to our company')"
   ]
  },
  {
   "cell_type": "code",
   "execution_count": 20,
   "id": "8d9964de",
   "metadata": {},
   "outputs": [
    {
     "name": "stdout",
     "output_type": "stream",
     "text": [
      "Greetings, John Snow welcome to\n"
     ]
    }
   ],
   "source": [
    "print('Greetings, {}{}'. format (New_First, New_Last), 'welcome to')"
   ]
  },
  {
   "cell_type": "code",
   "execution_count": 4,
   "id": "30039893",
   "metadata": {},
   "outputs": [],
   "source": [
    "name = 'John'"
   ]
  },
  {
   "cell_type": "code",
   "execution_count": 5,
   "id": "b4e1821d",
   "metadata": {},
   "outputs": [
    {
     "name": "stdout",
     "output_type": "stream",
     "text": [
      "Hello! John\n"
     ]
    }
   ],
   "source": [
    "print (f\"Hello! {name}\")"
   ]
  },
  {
   "cell_type": "code",
   "execution_count": 8,
   "id": "1c71a560",
   "metadata": {},
   "outputs": [],
   "source": [
    "name = 'Emami'\n",
    "greetings = 'Welcome to data science class'"
   ]
  },
  {
   "cell_type": "code",
   "execution_count": 9,
   "id": "b6a652b9",
   "metadata": {},
   "outputs": [
    {
     "name": "stdout",
     "output_type": "stream",
     "text": [
      "Hello Emami Welcome to data science class\n"
     ]
    }
   ],
   "source": [
    "print('Hello {} {}'.format(name, greetings))"
   ]
  },
  {
   "cell_type": "code",
   "execution_count": 11,
   "id": "f0be0b69",
   "metadata": {},
   "outputs": [
    {
     "name": "stdout",
     "output_type": "stream",
     "text": [
      "Hello Emami\n",
      "Welcome to data science class\n"
     ]
    }
   ],
   "source": [
    "print('Hello {}\\n{}'.format(name, greetings))"
   ]
  },
  {
   "cell_type": "code",
   "execution_count": 12,
   "id": "43e46bfd",
   "metadata": {},
   "outputs": [
    {
     "name": "stdout",
     "output_type": "stream",
     "text": [
      "Hello Emami\n",
      "Welcome to data science class\n"
     ]
    }
   ],
   "source": [
    "print('Hello {one}\\n{two}'.format(two=greetings, one=name))"
   ]
  },
  {
   "cell_type": "code",
   "execution_count": 17,
   "id": "b517c96f",
   "metadata": {},
   "outputs": [
    {
     "name": "stdout",
     "output_type": "stream",
     "text": [
      "Hello Emami Welcome to data science class\n"
     ]
    }
   ],
   "source": [
    "print('Hello '  + name + ' ' +  greetings)"
   ]
  },
  {
   "cell_type": "markdown",
   "id": "1d2422f6",
   "metadata": {},
   "source": [
    "* ### Strings Methods"
   ]
  },
  {
   "cell_type": "code",
   "execution_count": 19,
   "id": "f6ad54ff",
   "metadata": {},
   "outputs": [],
   "source": [
    "# Upper() method\n",
    "name = 'naomi' "
   ]
  },
  {
   "cell_type": "code",
   "execution_count": 20,
   "id": "13da8119",
   "metadata": {},
   "outputs": [
    {
     "name": "stdout",
     "output_type": "stream",
     "text": [
      "NAOMI\n"
     ]
    }
   ],
   "source": [
    "print(name.upper())"
   ]
  },
  {
   "cell_type": "code",
   "execution_count": 21,
   "id": "cadc9934",
   "metadata": {},
   "outputs": [
    {
     "name": "stdout",
     "output_type": "stream",
     "text": [
      "Naomi\n"
     ]
    }
   ],
   "source": [
    "# Title Method\n",
    "print(name.title())"
   ]
  },
  {
   "cell_type": "code",
   "execution_count": 23,
   "id": "5d2ecb74",
   "metadata": {},
   "outputs": [],
   "source": [
    "# Lower() method\n",
    "second_name = 'JOHN'"
   ]
  },
  {
   "cell_type": "code",
   "execution_count": 24,
   "id": "db5c432a",
   "metadata": {},
   "outputs": [
    {
     "name": "stdout",
     "output_type": "stream",
     "text": [
      "john\n"
     ]
    }
   ],
   "source": [
    "print(second_name.lower())"
   ]
  },
  {
   "cell_type": "code",
   "execution_count": 25,
   "id": "97c892c8",
   "metadata": {},
   "outputs": [],
   "source": [
    "# Center() method\n",
    "center_name = 'Saujane'"
   ]
  },
  {
   "cell_type": "code",
   "execution_count": 26,
   "id": "143ab7d2",
   "metadata": {},
   "outputs": [
    {
     "name": "stdout",
     "output_type": "stream",
     "text": [
      "Saujane\n"
     ]
    }
   ],
   "source": [
    "print(center_name.center(0))"
   ]
  },
  {
   "cell_type": "code",
   "execution_count": 27,
   "id": "e1c2ed88",
   "metadata": {},
   "outputs": [
    {
     "name": "stdout",
     "output_type": "stream",
     "text": [
      "                          Saujane                           \n"
     ]
    }
   ],
   "source": [
    "print(center_name.center(60))"
   ]
  },
  {
   "cell_type": "code",
   "execution_count": 29,
   "id": "f1d00a16",
   "metadata": {},
   "outputs": [
    {
     "name": "stdout",
     "output_type": "stream",
     "text": [
      "1\n"
     ]
    }
   ],
   "source": [
    "# Count() method\n",
    "print(center_name.count('S'))"
   ]
  },
  {
   "cell_type": "code",
   "execution_count": 30,
   "id": "e664d056",
   "metadata": {},
   "outputs": [
    {
     "name": "stdout",
     "output_type": "stream",
     "text": [
      "2\n"
     ]
    }
   ],
   "source": [
    "# Count() method\n",
    "print(center_name.count('a'))"
   ]
  },
  {
   "cell_type": "code",
   "execution_count": 32,
   "id": "ac90c57f",
   "metadata": {},
   "outputs": [
    {
     "name": "stdout",
     "output_type": "stream",
     "text": [
      "False\n"
     ]
    }
   ],
   "source": [
    "# Endwith() method\n",
    "print(center_name.endswith('s'))"
   ]
  },
  {
   "cell_type": "code",
   "execution_count": 33,
   "id": "75d24402",
   "metadata": {},
   "outputs": [
    {
     "name": "stdout",
     "output_type": "stream",
     "text": [
      "True\n"
     ]
    }
   ],
   "source": [
    "# Endwith() method\n",
    "print(center_name.endswith('e'))"
   ]
  },
  {
   "cell_type": "code",
   "execution_count": 34,
   "id": "5a5c3e3b",
   "metadata": {},
   "outputs": [],
   "source": [
    "# Isnumeric() method\n",
    "num = '123'"
   ]
  },
  {
   "cell_type": "code",
   "execution_count": 35,
   "id": "b99dd00c",
   "metadata": {},
   "outputs": [
    {
     "data": {
      "text/plain": [
       "str"
      ]
     },
     "execution_count": 35,
     "metadata": {},
     "output_type": "execute_result"
    }
   ],
   "source": [
    "type(num)"
   ]
  },
  {
   "cell_type": "code",
   "execution_count": 36,
   "id": "8a2505c7",
   "metadata": {},
   "outputs": [
    {
     "name": "stdout",
     "output_type": "stream",
     "text": [
      "True\n"
     ]
    }
   ],
   "source": [
    "print(num.isnumeric())"
   ]
  },
  {
   "cell_type": "code",
   "execution_count": 37,
   "id": "24b2bab4",
   "metadata": {},
   "outputs": [],
   "source": [
    "num_1 = num.isnumeric()"
   ]
  },
  {
   "cell_type": "code",
   "execution_count": 38,
   "id": "b720d7c7",
   "metadata": {},
   "outputs": [
    {
     "data": {
      "text/plain": [
       "bool"
      ]
     },
     "execution_count": 38,
     "metadata": {},
     "output_type": "execute_result"
    }
   ],
   "source": [
    "type(num_1)"
   ]
  },
  {
   "cell_type": "code",
   "execution_count": 43,
   "id": "e2ed0595",
   "metadata": {},
   "outputs": [],
   "source": [
    "# Strip method\n",
    "last_name = '   Smith    '"
   ]
  },
  {
   "cell_type": "code",
   "execution_count": 44,
   "id": "f46a77ae",
   "metadata": {},
   "outputs": [
    {
     "data": {
      "text/plain": [
       "12"
      ]
     },
     "execution_count": 44,
     "metadata": {},
     "output_type": "execute_result"
    }
   ],
   "source": [
    "len(last_name)"
   ]
  },
  {
   "cell_type": "code",
   "execution_count": 45,
   "id": "9a2eea67",
   "metadata": {},
   "outputs": [],
   "source": [
    "r_name = last_name.rstrip()"
   ]
  },
  {
   "cell_type": "code",
   "execution_count": 46,
   "id": "66380837",
   "metadata": {},
   "outputs": [
    {
     "data": {
      "text/plain": [
       "'   Smith'"
      ]
     },
     "execution_count": 46,
     "metadata": {},
     "output_type": "execute_result"
    }
   ],
   "source": [
    "r_name"
   ]
  },
  {
   "cell_type": "code",
   "execution_count": 47,
   "id": "f1b65c88",
   "metadata": {},
   "outputs": [
    {
     "data": {
      "text/plain": [
       "8"
      ]
     },
     "execution_count": 47,
     "metadata": {},
     "output_type": "execute_result"
    }
   ],
   "source": [
    "len(r_name)"
   ]
  },
  {
   "cell_type": "code",
   "execution_count": 48,
   "id": "05851eba",
   "metadata": {},
   "outputs": [],
   "source": [
    "l_name = last_name.lstrip()"
   ]
  },
  {
   "cell_type": "code",
   "execution_count": 49,
   "id": "4237eb9f",
   "metadata": {},
   "outputs": [
    {
     "data": {
      "text/plain": [
       "'Smith    '"
      ]
     },
     "execution_count": 49,
     "metadata": {},
     "output_type": "execute_result"
    }
   ],
   "source": [
    "l_name"
   ]
  },
  {
   "cell_type": "code",
   "execution_count": 50,
   "id": "0dbc7071",
   "metadata": {},
   "outputs": [
    {
     "data": {
      "text/plain": [
       "9"
      ]
     },
     "execution_count": 50,
     "metadata": {},
     "output_type": "execute_result"
    }
   ],
   "source": [
    "len(l_name)"
   ]
  },
  {
   "cell_type": "code",
   "execution_count": 52,
   "id": "024ef6b8",
   "metadata": {},
   "outputs": [],
   "source": [
    "sname = last_name.strip()"
   ]
  },
  {
   "cell_type": "code",
   "execution_count": 53,
   "id": "a6f42e9a",
   "metadata": {},
   "outputs": [
    {
     "data": {
      "text/plain": [
       "'Smith'"
      ]
     },
     "execution_count": 53,
     "metadata": {},
     "output_type": "execute_result"
    }
   ],
   "source": [
    "sname"
   ]
  },
  {
   "cell_type": "code",
   "execution_count": 54,
   "id": "c5226c94",
   "metadata": {},
   "outputs": [
    {
     "data": {
      "text/plain": [
       "5"
      ]
     },
     "execution_count": 54,
     "metadata": {},
     "output_type": "execute_result"
    }
   ],
   "source": [
    "len(sname)"
   ]
  },
  {
   "cell_type": "markdown",
   "id": "7612509e",
   "metadata": {},
   "source": [
    "* ## List\n",
    "Lists are used to store multiple items in a single variable. List members are created inside square brackets\n"
   ]
  },
  {
   "cell_type": "code",
   "execution_count": 1,
   "id": "436a8e7c",
   "metadata": {},
   "outputs": [
    {
     "data": {
      "text/plain": [
       "['apple', 'orange', 'mango', 'banana']"
      ]
     },
     "execution_count": 1,
     "metadata": {},
     "output_type": "execute_result"
    }
   ],
   "source": [
    "a_list = ['apple','orange', 'mango', 'banana']\n",
    "a_list"
   ]
  },
  {
   "cell_type": "code",
   "execution_count": 2,
   "id": "ae720715",
   "metadata": {},
   "outputs": [
    {
     "data": {
      "text/plain": [
       "list"
      ]
     },
     "execution_count": 2,
     "metadata": {},
     "output_type": "execute_result"
    }
   ],
   "source": [
    "type(a_list)"
   ]
  },
  {
   "cell_type": "code",
   "execution_count": 3,
   "id": "b4bcf53c",
   "metadata": {},
   "outputs": [],
   "source": [
    "# Append method\n",
    "a_list.append('Peach')"
   ]
  },
  {
   "cell_type": "code",
   "execution_count": 4,
   "id": "d235bd12",
   "metadata": {},
   "outputs": [
    {
     "data": {
      "text/plain": [
       "['apple', 'orange', 'mango', 'banana', 'Peach']"
      ]
     },
     "execution_count": 4,
     "metadata": {},
     "output_type": "execute_result"
    }
   ],
   "source": [
    "a_list"
   ]
  },
  {
   "cell_type": "code",
   "execution_count": 5,
   "id": "c3179486",
   "metadata": {},
   "outputs": [
    {
     "data": {
      "text/plain": [
       "'orange'"
      ]
     },
     "execution_count": 5,
     "metadata": {},
     "output_type": "execute_result"
    }
   ],
   "source": [
    "# Pop method\n",
    "a_list.pop(1)"
   ]
  },
  {
   "cell_type": "code",
   "execution_count": 6,
   "id": "c6b85d96",
   "metadata": {},
   "outputs": [
    {
     "data": {
      "text/plain": [
       "['apple', 'mango', 'banana', 'Peach']"
      ]
     },
     "execution_count": 6,
     "metadata": {},
     "output_type": "execute_result"
    }
   ],
   "source": [
    "a_list"
   ]
  },
  {
   "cell_type": "code",
   "execution_count": 7,
   "id": "61960e56",
   "metadata": {},
   "outputs": [
    {
     "data": {
      "text/plain": [
       "'apple'"
      ]
     },
     "execution_count": 7,
     "metadata": {},
     "output_type": "execute_result"
    }
   ],
   "source": [
    "a_list[0]"
   ]
  },
  {
   "cell_type": "code",
   "execution_count": 8,
   "id": "01c0f405",
   "metadata": {},
   "outputs": [
    {
     "data": {
      "text/plain": [
       "['apple', 'mango', 'banana', 'Peach']"
      ]
     },
     "execution_count": 8,
     "metadata": {},
     "output_type": "execute_result"
    }
   ],
   "source": [
    "a_list"
   ]
  },
  {
   "cell_type": "code",
   "execution_count": 10,
   "id": "f333c68d",
   "metadata": {},
   "outputs": [
    {
     "data": {
      "text/plain": [
       "'Peach'"
      ]
     },
     "execution_count": 10,
     "metadata": {},
     "output_type": "execute_result"
    }
   ],
   "source": [
    "a_list[-1]"
   ]
  },
  {
   "cell_type": "code",
   "execution_count": 11,
   "id": "854b296e",
   "metadata": {},
   "outputs": [
    {
     "data": {
      "text/plain": [
       "['apple', 'mango', 'banana', 'Peach']"
      ]
     },
     "execution_count": 11,
     "metadata": {},
     "output_type": "execute_result"
    }
   ],
   "source": [
    "a_list"
   ]
  },
  {
   "cell_type": "code",
   "execution_count": 12,
   "id": "700730a1",
   "metadata": {},
   "outputs": [
    {
     "data": {
      "text/plain": [
       "'Peach'"
      ]
     },
     "execution_count": 12,
     "metadata": {},
     "output_type": "execute_result"
    }
   ],
   "source": [
    "a_list[3]"
   ]
  },
  {
   "cell_type": "code",
   "execution_count": 13,
   "id": "89ca9a7c",
   "metadata": {},
   "outputs": [
    {
     "data": {
      "text/plain": [
       "['apple', 'banana', 'Peach']"
      ]
     },
     "execution_count": 13,
     "metadata": {},
     "output_type": "execute_result"
    }
   ],
   "source": [
    "# Remove method\n",
    "a_list.remove('mango')\n",
    "a_list"
   ]
  },
  {
   "cell_type": "code",
   "execution_count": 14,
   "id": "e56d5d92",
   "metadata": {},
   "outputs": [
    {
     "data": {
      "text/plain": [
       "['apple', 'banana', 'Peach']"
      ]
     },
     "execution_count": 14,
     "metadata": {},
     "output_type": "execute_result"
    }
   ],
   "source": [
    "b_list = a_list.copy()\n",
    "b_list"
   ]
  },
  {
   "cell_type": "markdown",
   "id": "b78c7bb2",
   "metadata": {},
   "source": [
    "* ## Dictionaries\n",
    "Are used to store key: value. The items in a dictionary are created inside curly brackets {}"
   ]
  },
  {
   "cell_type": "code",
   "execution_count": 27,
   "id": "ea3690c4",
   "metadata": {},
   "outputs": [
    {
     "data": {
      "text/plain": [
       "{'Make': 'Toyota', 'Model': 'Land Cruiser', 'Year': '2022'}"
      ]
     },
     "execution_count": 27,
     "metadata": {},
     "output_type": "execute_result"
    }
   ],
   "source": [
    "# Exp:\n",
    "cars = {'Make':'Toyota','Model':'Land Cruiser','Year':'2022'}\n",
    "cars"
   ]
  },
  {
   "cell_type": "code",
   "execution_count": 33,
   "id": "32343ed6",
   "metadata": {},
   "outputs": [
    {
     "data": {
      "text/plain": [
       "'Toyota'"
      ]
     },
     "execution_count": 33,
     "metadata": {},
     "output_type": "execute_result"
    }
   ],
   "source": [
    "cars['Make']"
   ]
  },
  {
   "cell_type": "code",
   "execution_count": 32,
   "id": "d4214610",
   "metadata": {},
   "outputs": [
    {
     "data": {
      "text/plain": [
       "{'Make': 'Toyota', 'Model': 'Land Cruiser', 'Year': '2023', 'Colour': 'Black'}"
      ]
     },
     "execution_count": 32,
     "metadata": {},
     "output_type": "execute_result"
    }
   ],
   "source": [
    "cars['Year'] = '2023'\n",
    "cars"
   ]
  },
  {
   "cell_type": "code",
   "execution_count": 31,
   "id": "ab1e616f",
   "metadata": {},
   "outputs": [
    {
     "data": {
      "text/plain": [
       "{'Make': 'Toyota', 'Model': 'Land Cruiser', 'Year': '2022', 'Colour': 'Black'}"
      ]
     },
     "execution_count": 31,
     "metadata": {},
     "output_type": "execute_result"
    }
   ],
   "source": [
    "cars['Colour'] = 'Black'\n",
    "cars"
   ]
  },
  {
   "cell_type": "code",
   "execution_count": 29,
   "id": "4ba13bc8",
   "metadata": {},
   "outputs": [
    {
     "data": {
      "text/plain": [
       "dict_keys(['Make', 'Model', 'Year'])"
      ]
     },
     "execution_count": 29,
     "metadata": {},
     "output_type": "execute_result"
    }
   ],
   "source": [
    "cars.keys()"
   ]
  },
  {
   "cell_type": "code",
   "execution_count": 28,
   "id": "69100cbb",
   "metadata": {},
   "outputs": [
    {
     "data": {
      "text/plain": [
       "dict_values(['Toyota', 'Land Cruiser', '2022'])"
      ]
     },
     "execution_count": 28,
     "metadata": {},
     "output_type": "execute_result"
    }
   ],
   "source": [
    "cars.values()"
   ]
  },
  {
   "cell_type": "code",
   "execution_count": 34,
   "id": "d59d5bc7",
   "metadata": {},
   "outputs": [
    {
     "data": {
      "text/plain": [
       "dict_items([('Make', 'Toyota'), ('Model', 'Land Cruiser'), ('Year', '2023'), ('Colour', 'Black')])"
      ]
     },
     "execution_count": 34,
     "metadata": {},
     "output_type": "execute_result"
    }
   ],
   "source": [
    "cars.items()"
   ]
  },
  {
   "cell_type": "markdown",
   "id": "d09e7adc",
   "metadata": {},
   "source": [
    "* # Booleans"
   ]
  },
  {
   "cell_type": "code",
   "execution_count": 5,
   "id": "b9bc6051",
   "metadata": {},
   "outputs": [
    {
     "name": "stdout",
     "output_type": "stream",
     "text": [
      "False\n"
     ]
    }
   ],
   "source": [
    "print (True == False)"
   ]
  },
  {
   "cell_type": "code",
   "execution_count": 8,
   "id": "4fcfeac6",
   "metadata": {},
   "outputs": [
    {
     "name": "stdout",
     "output_type": "stream",
     "text": [
      "True\n"
     ]
    }
   ],
   "source": [
    "print((2>3)or(12<56))"
   ]
  },
  {
   "cell_type": "code",
   "execution_count": 9,
   "id": "245fbd1c",
   "metadata": {},
   "outputs": [
    {
     "name": "stdout",
     "output_type": "stream",
     "text": [
      "True\n"
     ]
    }
   ],
   "source": [
    "print((2>3)|(12<56))"
   ]
  },
  {
   "cell_type": "code",
   "execution_count": 10,
   "id": "d594a58c",
   "metadata": {},
   "outputs": [
    {
     "name": "stdout",
     "output_type": "stream",
     "text": [
      "False\n"
     ]
    }
   ],
   "source": [
    "print((2>3)and(12<56))"
   ]
  },
  {
   "cell_type": "code",
   "execution_count": 11,
   "id": "fccab7db",
   "metadata": {},
   "outputs": [
    {
     "name": "stdout",
     "output_type": "stream",
     "text": [
      "False\n"
     ]
    }
   ],
   "source": [
    "print(10 == 9)"
   ]
  },
  {
   "cell_type": "code",
   "execution_count": 12,
   "id": "a9e41117",
   "metadata": {},
   "outputs": [
    {
     "name": "stdout",
     "output_type": "stream",
     "text": [
      "True\n"
     ]
    }
   ],
   "source": [
    "print(10 != 9)"
   ]
  },
  {
   "cell_type": "markdown",
   "id": "581ba063",
   "metadata": {},
   "source": [
    "* ## Tuples are unmutable objects"
   ]
  },
  {
   "cell_type": "code",
   "execution_count": 13,
   "id": "8fbffedc",
   "metadata": {},
   "outputs": [],
   "source": [
    "t = (1,2,3,4,5)"
   ]
  },
  {
   "cell_type": "code",
   "execution_count": 14,
   "id": "5ec5838d",
   "metadata": {},
   "outputs": [],
   "source": [
    "a,b,c,d,e = t"
   ]
  },
  {
   "cell_type": "code",
   "execution_count": 15,
   "id": "ec943fb6",
   "metadata": {},
   "outputs": [
    {
     "data": {
      "text/plain": [
       "1"
      ]
     },
     "execution_count": 15,
     "metadata": {},
     "output_type": "execute_result"
    }
   ],
   "source": [
    "a"
   ]
  },
  {
   "cell_type": "code",
   "execution_count": 16,
   "id": "9ae93ba7",
   "metadata": {},
   "outputs": [
    {
     "data": {
      "text/plain": [
       "4"
      ]
     },
     "execution_count": 16,
     "metadata": {},
     "output_type": "execute_result"
    }
   ],
   "source": [
    "d"
   ]
  },
  {
   "cell_type": "code",
   "execution_count": 17,
   "id": "4826f936",
   "metadata": {},
   "outputs": [
    {
     "data": {
      "text/plain": [
       "1"
      ]
     },
     "execution_count": 17,
     "metadata": {},
     "output_type": "execute_result"
    }
   ],
   "source": [
    "t[0]"
   ]
  },
  {
   "cell_type": "code",
   "execution_count": 18,
   "id": "37c81451",
   "metadata": {},
   "outputs": [
    {
     "data": {
      "text/plain": [
       "5"
      ]
     },
     "execution_count": 18,
     "metadata": {},
     "output_type": "execute_result"
    }
   ],
   "source": [
    "t[-1]"
   ]
  },
  {
   "cell_type": "code",
   "execution_count": 19,
   "id": "c3f0c237",
   "metadata": {},
   "outputs": [
    {
     "ename": "TypeError",
     "evalue": "'tuple' object does not support item assignment",
     "output_type": "error",
     "traceback": [
      "\u001b[1;31m---------------------------------------------------------------------------\u001b[0m",
      "\u001b[1;31mTypeError\u001b[0m                                 Traceback (most recent call last)",
      "Input \u001b[1;32mIn [19]\u001b[0m, in \u001b[0;36m<cell line: 1>\u001b[1;34m()\u001b[0m\n\u001b[1;32m----> 1\u001b[0m t[\u001b[38;5;241m3\u001b[39m] \u001b[38;5;241m=\u001b[39m \u001b[38;5;241m100\u001b[39m\n",
      "\u001b[1;31mTypeError\u001b[0m: 'tuple' object does not support item assignment"
     ]
    }
   ],
   "source": [
    "t[3] = 100"
   ]
  },
  {
   "cell_type": "markdown",
   "id": "4b59b089",
   "metadata": {},
   "source": [
    "tuples, unlike lists and dictionaries, cannot be updated "
   ]
  },
  {
   "cell_type": "markdown",
   "id": "12c1e8d3",
   "metadata": {},
   "source": [
    "* # Sets: Does not repeat set member"
   ]
  },
  {
   "cell_type": "code",
   "execution_count": 26,
   "id": "6b51ec40",
   "metadata": {},
   "outputs": [],
   "source": [
    "L = [1,1,1,2,3,3,3,4,5,6,7,7,7,8,9,9,9]"
   ]
  },
  {
   "cell_type": "code",
   "execution_count": 27,
   "id": "f323b34a",
   "metadata": {},
   "outputs": [
    {
     "data": {
      "text/plain": [
       "{1, 2, 3, 4, 5, 6, 7, 8, 9}"
      ]
     },
     "execution_count": 27,
     "metadata": {},
     "output_type": "execute_result"
    }
   ],
   "source": [
    "s1 = set(L)\n",
    "s1"
   ]
  },
  {
   "cell_type": "markdown",
   "id": "f22f4021",
   "metadata": {},
   "source": [
    "# Basic Operations\n",
    "* if, elif, else statememts"
   ]
  },
  {
   "cell_type": "code",
   "execution_count": 29,
   "id": "2b488e5f",
   "metadata": {},
   "outputs": [],
   "source": [
    "seq = [1,2,3,4,5,6,7,8,9]"
   ]
  },
  {
   "cell_type": "code",
   "execution_count": 32,
   "id": "6fd7b69d",
   "metadata": {},
   "outputs": [],
   "source": [
    "my_list = ['John','Jon','Josh','Abel','Mike','Sean','West','Abdul']"
   ]
  },
  {
   "cell_type": "code",
   "execution_count": 33,
   "id": "1a0969c7",
   "metadata": {},
   "outputs": [],
   "source": [
    "name = 'Mia'"
   ]
  },
  {
   "cell_type": "code",
   "execution_count": 34,
   "id": "6b5701c7",
   "metadata": {},
   "outputs": [
    {
     "name": "stdout",
     "output_type": "stream",
     "text": [
      "Not a student\n"
     ]
    }
   ],
   "source": [
    "if name in my_list:\n",
    "    print('Student')\n",
    "else:\n",
    "    print('Not a student')"
   ]
  },
  {
   "cell_type": "code",
   "execution_count": 35,
   "id": "4e3972d9",
   "metadata": {},
   "outputs": [],
   "source": [
    "new = 'John'"
   ]
  },
  {
   "cell_type": "code",
   "execution_count": 36,
   "id": "c8790828",
   "metadata": {},
   "outputs": [
    {
     "name": "stdout",
     "output_type": "stream",
     "text": [
      "Student\n"
     ]
    }
   ],
   "source": [
    "if new in my_list:\n",
    "    print('Student')\n",
    "elif new[0] == 'J':\n",
    "    print('Sounds familiar')\n",
    "else:\n",
    "    print('Not a student')"
   ]
  },
  {
   "cell_type": "code",
   "execution_count": 45,
   "id": "54f4c0bd",
   "metadata": {},
   "outputs": [],
   "source": [
    "new = 'Johns'"
   ]
  },
  {
   "cell_type": "code",
   "execution_count": 49,
   "id": "9b688187",
   "metadata": {},
   "outputs": [
    {
     "name": "stdout",
     "output_type": "stream",
     "text": [
      "Not a student\n"
     ]
    }
   ],
   "source": [
    "if new in my_list:\n",
    "    print('Student')\n",
    "elif new[0] == 'j':\n",
    "    print('Sounds familiar')\n",
    "else:\n",
    "    print('Not a student')"
   ]
  },
  {
   "cell_type": "markdown",
   "id": "52528d15",
   "metadata": {},
   "source": [
    "to correct that:"
   ]
  },
  {
   "cell_type": "code",
   "execution_count": 40,
   "id": "b8cca7a9",
   "metadata": {},
   "outputs": [
    {
     "name": "stdout",
     "output_type": "stream",
     "text": [
      "Sounds familiar\n"
     ]
    }
   ],
   "source": [
    "if new in my_list:\n",
    "    print('Student')\n",
    "elif new[0].lower() == 'j':\n",
    "    print('Sounds familiar')\n",
    "else:\n",
    "    print('Not a student')"
   ]
  },
  {
   "cell_type": "code",
   "execution_count": 41,
   "id": "9a5a2af0",
   "metadata": {},
   "outputs": [],
   "source": [
    "new = 'johns'"
   ]
  },
  {
   "cell_type": "code",
   "execution_count": 42,
   "id": "0ad55fa6",
   "metadata": {},
   "outputs": [
    {
     "name": "stdout",
     "output_type": "stream",
     "text": [
      "Sounds familiar\n"
     ]
    }
   ],
   "source": [
    "if new in my_list:\n",
    "    print('Student')\n",
    "elif new[0].upper() == 'J':\n",
    "    print('Sounds familiar')\n",
    "else:\n",
    "    print('Not a student')"
   ]
  },
  {
   "cell_type": "code",
   "execution_count": null,
   "id": "012b80ec",
   "metadata": {},
   "outputs": [],
   "source": []
  }
 ],
 "metadata": {
  "kernelspec": {
   "display_name": "Python 3 (ipykernel)",
   "language": "python",
   "name": "python3"
  },
  "language_info": {
   "codemirror_mode": {
    "name": "ipython",
    "version": 3
   },
   "file_extension": ".py",
   "mimetype": "text/x-python",
   "name": "python",
   "nbconvert_exporter": "python",
   "pygments_lexer": "ipython3",
   "version": "3.9.12"
  }
 },
 "nbformat": 4,
 "nbformat_minor": 5
}
