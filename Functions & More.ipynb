{
 "cells": [
  {
   "cell_type": "markdown",
   "id": "35be60f4",
   "metadata": {},
   "source": [
    "* Basic Operations\n",
    "     * Comparison Operators\n",
    "     * if, elif, else ststements\n",
    "     * for loops\n",
    "     * while loops\n",
    "     * range()\n",
    "     * list comprehension\n",
    "     * functions\n",
    "     * lambda expressions\n",
    "     * map and filter\n",
    "    "
   ]
  },
  {
   "cell_type": "markdown",
   "id": "c771a4ac",
   "metadata": {},
   "source": [
    "* # Range ()"
   ]
  },
  {
   "cell_type": "code",
   "execution_count": null,
   "id": "82e8edfa",
   "metadata": {},
   "outputs": [],
   "source": [
    "range(1,11) # this will return 1,2,3,4,5,6,7,8,9,10\n",
    "# will include numbers between 1 and 11, with 1 included and 11 excluded"
   ]
  },
  {
   "cell_type": "code",
   "execution_count": null,
   "id": "80416170",
   "metadata": {},
   "outputs": [],
   "source": [
    "range(1,11,2) # this will return 1,3,5,7,9"
   ]
  },
  {
   "cell_type": "code",
   "execution_count": null,
   "id": "0be9fc45",
   "metadata": {},
   "outputs": [],
   "source": [
    "for num in range(1,11):\n",
    "    print(num)"
   ]
  },
  {
   "cell_type": "code",
   "execution_count": null,
   "id": "df1e1ef3",
   "metadata": {},
   "outputs": [],
   "source": [
    "for num in range(1,11,2):\n",
    "    print(num)"
   ]
  },
  {
   "cell_type": "code",
   "execution_count": null,
   "id": "5702c51a",
   "metadata": {},
   "outputs": [],
   "source": [
    "for num in range(1,11,2):\n",
    "    print(num**2)"
   ]
  },
  {
   "cell_type": "code",
   "execution_count": null,
   "id": "9f58e38c",
   "metadata": {},
   "outputs": [],
   "source": [
    "for num in range(1,12,2):\n",
    "    print(num**2)"
   ]
  },
  {
   "cell_type": "code",
   "execution_count": null,
   "id": "80bbf6c0",
   "metadata": {},
   "outputs": [],
   "source": [
    "for num in range(1,11,3):\n",
    "    if num % 2== 0:\n",
    "        print ('Even number')\n",
    "    else:\n",
    "        print('Odd number')"
   ]
  },
  {
   "cell_type": "markdown",
   "id": "2ded65bb",
   "metadata": {},
   "source": [
    "* # While Loop"
   ]
  },
  {
   "cell_type": "code",
   "execution_count": 21,
   "id": "56d6c4ab",
   "metadata": {},
   "outputs": [
    {
     "name": "stdout",
     "output_type": "stream",
     "text": [
      "1\n",
      "2\n",
      "3\n",
      "4\n",
      "5\n",
      "6\n",
      "7\n",
      "8\n",
      "9\n",
      "10\n"
     ]
    }
   ],
   "source": [
    "num = 1\n",
    "while num <11:\n",
    "    print(num)\n",
    "    num = num+1\n",
    "    #num += 1"
   ]
  },
  {
   "cell_type": "code",
   "execution_count": 20,
   "id": "91810222",
   "metadata": {},
   "outputs": [
    {
     "name": "stdout",
     "output_type": "stream",
     "text": [
      "Odd number\n",
      "Even number\n",
      "Odd number\n",
      "Even number\n",
      "Odd number\n",
      "Even number\n",
      "Odd number\n",
      "Even number\n",
      "Odd number\n",
      "Even number\n"
     ]
    }
   ],
   "source": [
    "num = 1\n",
    "while num <11:\n",
    "    if num %2 != 0:\n",
    "        print('Odd number')\n",
    "    else:\n",
    "        print('Even number')\n",
    "    num = num+1"
   ]
  },
  {
   "cell_type": "markdown",
   "id": "347d1dc8",
   "metadata": {},
   "source": [
    "* # List Comprehenshion"
   ]
  },
  {
   "cell_type": "code",
   "execution_count": 22,
   "id": "c578eb32",
   "metadata": {},
   "outputs": [
    {
     "name": "stdout",
     "output_type": "stream",
     "text": [
      "Odd number\n",
      "Even number\n",
      "Odd number\n",
      "Even number\n"
     ]
    }
   ],
   "source": [
    "for num in range(1,11,3):\n",
    "    if num % 2== 0:\n",
    "        print('Even number')\n",
    "    else:\n",
    "        print('Odd number')"
   ]
  },
  {
   "cell_type": "code",
   "execution_count": 23,
   "id": "ec7bdb71",
   "metadata": {},
   "outputs": [
    {
     "name": "stdout",
     "output_type": "stream",
     "text": [
      "Even number\n",
      "Odd number\n",
      "Even number\n",
      "Odd number\n",
      "Even number\n",
      "Odd number\n",
      "Even number\n",
      "Odd number\n",
      "Even number\n",
      "Odd number\n",
      "Even number\n"
     ]
    },
    {
     "data": {
      "text/plain": [
       "[None, None, None, None, None, None, None, None, None, None, None]"
      ]
     },
     "execution_count": 23,
     "metadata": {},
     "output_type": "execute_result"
    }
   ],
   "source": [
    "[print('Even number') if num %2 == 0 else print('Odd number') for num in range(11)]"
   ]
  },
  {
   "cell_type": "code",
   "execution_count": 2,
   "id": "ce7a8a70",
   "metadata": {},
   "outputs": [
    {
     "name": "stdout",
     "output_type": "stream",
     "text": [
      "[1, 4, 9, 16, 25, 36, 49, 64, 81, 100]\n"
     ]
    }
   ],
   "source": [
    "my_list=[]\n",
    "for num in range(1,11,1):\n",
    "    my_list.append(num**2)\n",
    "    num+= 1\n",
    "print(my_list)"
   ]
  },
  {
   "cell_type": "code",
   "execution_count": 3,
   "id": "aae0744b",
   "metadata": {},
   "outputs": [
    {
     "data": {
      "text/plain": [
       "[0, 1, 4, 9, 16, 25, 36, 49, 64, 81, 100]"
      ]
     },
     "execution_count": 3,
     "metadata": {},
     "output_type": "execute_result"
    }
   ],
   "source": [
    "[num**2 for num in range(11)]"
   ]
  },
  {
   "cell_type": "code",
   "execution_count": 4,
   "id": "3cb16c03",
   "metadata": {},
   "outputs": [
    {
     "data": {
      "text/plain": [
       "[[0, 3, 6, 9], [0, 3, 6, 9], [0, 3, 6, 9], [0, 3, 6, 9], [0, 3, 6, 9]]"
      ]
     },
     "execution_count": 4,
     "metadata": {},
     "output_type": "execute_result"
    }
   ],
   "source": [
    "[[num*3 for num in range(4)] for num in range(5)]"
   ]
  },
  {
   "cell_type": "markdown",
   "id": "201aebcd",
   "metadata": {},
   "source": [
    "* # Dictionary Comprehension"
   ]
  },
  {
   "cell_type": "code",
   "execution_count": 5,
   "id": "e63e61df",
   "metadata": {},
   "outputs": [],
   "source": [
    "name = ['Moussa','Sall','Idris','George']"
   ]
  },
  {
   "cell_type": "code",
   "execution_count": 6,
   "id": "57eb982f",
   "metadata": {},
   "outputs": [],
   "source": [
    "dico = {k:v for k,v in enumerate(name)}"
   ]
  },
  {
   "cell_type": "code",
   "execution_count": 7,
   "id": "e132f7d5",
   "metadata": {},
   "outputs": [
    {
     "data": {
      "text/plain": [
       "{0: 'Moussa', 1: 'Sall', 2: 'Idris', 3: 'George'}"
      ]
     },
     "execution_count": 7,
     "metadata": {},
     "output_type": "execute_result"
    }
   ],
   "source": [
    "dico"
   ]
  },
  {
   "cell_type": "code",
   "execution_count": 8,
   "id": "ddf7cb2e",
   "metadata": {},
   "outputs": [],
   "source": [
    "gpa = [4,3.9,3.8,3.5]"
   ]
  },
  {
   "cell_type": "code",
   "execution_count": 9,
   "id": "372dd639",
   "metadata": {},
   "outputs": [
    {
     "data": {
      "text/plain": [
       "{'Moussa': 4, 'Sall': 3.9, 'Idris': 3.8, 'George': 3.5}"
      ]
     },
     "execution_count": 9,
     "metadata": {},
     "output_type": "execute_result"
    }
   ],
   "source": [
    "name_gpg = {k:v for k,v in zip(name,gpa)}\n",
    "name_gpg"
   ]
  },
  {
   "cell_type": "markdown",
   "id": "cad314cb",
   "metadata": {},
   "source": [
    "* ## Functions"
   ]
  },
  {
   "cell_type": "code",
   "execution_count": 10,
   "id": "0f29ee42",
   "metadata": {},
   "outputs": [],
   "source": [
    "def square_root_func(num):\n",
    "    result = num**0.5\n",
    "    return result"
   ]
  },
  {
   "cell_type": "code",
   "execution_count": 11,
   "id": "cfb65fe4",
   "metadata": {},
   "outputs": [
    {
     "data": {
      "text/plain": [
       "1.4142135623730951"
      ]
     },
     "execution_count": 11,
     "metadata": {},
     "output_type": "execute_result"
    }
   ],
   "source": [
    "square_root_func(2)"
   ]
  },
  {
   "cell_type": "code",
   "execution_count": 12,
   "id": "af067173",
   "metadata": {},
   "outputs": [
    {
     "name": "stdout",
     "output_type": "stream",
     "text": [
      "[1, 4, 9, 16, 25, 36, 49, 64, 81, 100]\n"
     ]
    }
   ],
   "source": [
    "my_list=[]\n",
    "for num in range(1,11,1):\n",
    "    my_list.append(num**2)\n",
    "    num+= 1\n",
    "print(my_list)"
   ]
  },
  {
   "cell_type": "code",
   "execution_count": 13,
   "id": "4708b07a",
   "metadata": {},
   "outputs": [],
   "source": [
    "def square_func(val):\n",
    "    my_list = []\n",
    "    for val in range(1,11):\n",
    "        my_list.append(val**2)\n",
    "        val = val+1\n",
    "    return my_list"
   ]
  },
  {
   "cell_type": "code",
   "execution_count": 14,
   "id": "01f621b0",
   "metadata": {},
   "outputs": [
    {
     "data": {
      "text/plain": [
       "[1, 4, 9, 16, 25, 36, 49, 64, 81, 100]"
      ]
     },
     "execution_count": 14,
     "metadata": {},
     "output_type": "execute_result"
    }
   ],
   "source": [
    "my_list"
   ]
  },
  {
   "cell_type": "code",
   "execution_count": 16,
   "id": "eed10f0a",
   "metadata": {},
   "outputs": [],
   "source": [
    "mylist = [2,-5,10,21,-17,55,-0.5,-78]"
   ]
  },
  {
   "cell_type": "code",
   "execution_count": 2,
   "id": "70faa34c",
   "metadata": {},
   "outputs": [
    {
     "data": {
      "text/plain": [
       "2"
      ]
     },
     "execution_count": 2,
     "metadata": {},
     "output_type": "execute_result"
    }
   ],
   "source": [
    "mylist[0]"
   ]
  },
  {
   "cell_type": "code",
   "execution_count": 3,
   "id": "8f66a163",
   "metadata": {},
   "outputs": [
    {
     "data": {
      "text/plain": [
       "-5"
      ]
     },
     "execution_count": 3,
     "metadata": {},
     "output_type": "execute_result"
    }
   ],
   "source": [
    "mylist[1]"
   ]
  },
  {
   "cell_type": "code",
   "execution_count": 4,
   "id": "77628ef3",
   "metadata": {},
   "outputs": [
    {
     "data": {
      "text/plain": [
       "[(0, 2), (1, -5), (2, 10), (3, 21), (4, -17), (5, 55), (6, -0.5), (7, -78)]"
      ]
     },
     "execution_count": 4,
     "metadata": {},
     "output_type": "execute_result"
    }
   ],
   "source": [
    "list(enumerate(mylist))"
   ]
  },
  {
   "cell_type": "code",
   "execution_count": 14,
   "id": "287184aa",
   "metadata": {},
   "outputs": [],
   "source": [
    "def replace_by_zero(mylist):\n",
    "    for idx,num in enumerate(mylist):\n",
    "        if num < 0:\n",
    "            mylist[idx] = 0\n",
    "    return mylist"
   ]
  },
  {
   "cell_type": "code",
   "execution_count": 17,
   "id": "3885f197",
   "metadata": {},
   "outputs": [
    {
     "data": {
      "text/plain": [
       "[2, -5, 10, 21, -17, 55, -0.5, -78]"
      ]
     },
     "execution_count": 17,
     "metadata": {},
     "output_type": "execute_result"
    }
   ],
   "source": [
    "mylist"
   ]
  },
  {
   "cell_type": "code",
   "execution_count": 10,
   "id": "2d906da3",
   "metadata": {},
   "outputs": [
    {
     "data": {
      "text/plain": [
       "[2, 0, 10, 21, 0, 55, 0, 0]"
      ]
     },
     "execution_count": 10,
     "metadata": {},
     "output_type": "execute_result"
    }
   ],
   "source": [
    "replace_by_zero(mylist)"
   ]
  },
  {
   "cell_type": "code",
   "execution_count": 23,
   "id": "413ed117",
   "metadata": {},
   "outputs": [],
   "source": [
    "# 7 = 7x6x5x4x3x2x1\n",
    "def factoriel_func(num):\n",
    "    p = 1\n",
    "    i = 1\n",
    "    while i <= num:\n",
    "        p *= i\n",
    "        i += 1\n",
    "    return p"
   ]
  },
  {
   "cell_type": "code",
   "execution_count": 24,
   "id": "5f4cca00",
   "metadata": {},
   "outputs": [
    {
     "data": {
      "text/plain": [
       "6"
      ]
     },
     "execution_count": 24,
     "metadata": {},
     "output_type": "execute_result"
    }
   ],
   "source": [
    "factoriel_func(3)"
   ]
  },
  {
   "cell_type": "code",
   "execution_count": 26,
   "id": "6df53b18",
   "metadata": {},
   "outputs": [
    {
     "data": {
      "text/plain": [
       "5040"
      ]
     },
     "execution_count": 26,
     "metadata": {},
     "output_type": "execute_result"
    }
   ],
   "source": [
    "factoriel_func(7)"
   ]
  },
  {
   "cell_type": "code",
   "execution_count": 27,
   "id": "1bb06f59",
   "metadata": {},
   "outputs": [],
   "source": [
    "p = 1"
   ]
  },
  {
   "cell_type": "markdown",
   "id": "e9773842",
   "metadata": {},
   "source": [
    "* ## Lambda Expressions"
   ]
  },
  {
   "cell_type": "code",
   "execution_count": 28,
   "id": "afab24d8",
   "metadata": {},
   "outputs": [],
   "source": [
    "def squares(num):\n",
    "    result = num**2\n",
    "    return result"
   ]
  },
  {
   "cell_type": "code",
   "execution_count": 29,
   "id": "3397e601",
   "metadata": {},
   "outputs": [
    {
     "data": {
      "text/plain": [
       "36"
      ]
     },
     "execution_count": 29,
     "metadata": {},
     "output_type": "execute_result"
    }
   ],
   "source": [
    "squares(6)"
   ]
  },
  {
   "cell_type": "markdown",
   "id": "9c889cbc",
   "metadata": {},
   "source": [
    "# INSTEAD"
   ]
  },
  {
   "cell_type": "code",
   "execution_count": 45,
   "id": "938c219d",
   "metadata": {},
   "outputs": [],
   "source": [
    "l =lambda num: num*3"
   ]
  },
  {
   "cell_type": "code",
   "execution_count": 46,
   "id": "5a0917ae",
   "metadata": {},
   "outputs": [
    {
     "data": {
      "text/plain": [
       "18"
      ]
     },
     "execution_count": 46,
     "metadata": {},
     "output_type": "execute_result"
    }
   ],
   "source": [
    "l(6)"
   ]
  },
  {
   "cell_type": "code",
   "execution_count": 47,
   "id": "6cdf54c1",
   "metadata": {},
   "outputs": [],
   "source": [
    "ano_list = [-1,4,-5,6,7,-11,20,21,33,-77]"
   ]
  },
  {
   "cell_type": "code",
   "execution_count": 48,
   "id": "bb527bac",
   "metadata": {},
   "outputs": [
    {
     "data": {
      "text/plain": [
       "[-3, 12, -15, 18, 21, -33, 60, 63, 99, -231]"
      ]
     },
     "execution_count": 48,
     "metadata": {},
     "output_type": "execute_result"
    }
   ],
   "source": [
    "list(map(l,ano_list))"
   ]
  },
  {
   "cell_type": "code",
   "execution_count": 43,
   "id": "c4701d37",
   "metadata": {},
   "outputs": [
    {
     "ename": "TypeError",
     "evalue": "'int' object is not iterable",
     "output_type": "error",
     "traceback": [
      "\u001b[1;31m---------------------------------------------------------------------------\u001b[0m",
      "\u001b[1;31mTypeError\u001b[0m                                 Traceback (most recent call last)",
      "Input \u001b[1;32mIn [43]\u001b[0m, in \u001b[0;36m<cell line: 1>\u001b[1;34m()\u001b[0m\n\u001b[1;32m----> 1\u001b[0m \u001b[38;5;28;43mlist\u001b[39;49m\u001b[43m(\u001b[49m\u001b[38;5;28;43mmap\u001b[39;49m\u001b[43m(\u001b[49m\u001b[43mreplace_by_zero\u001b[49m\u001b[43m,\u001b[49m\u001b[43mano_list\u001b[49m\u001b[43m)\u001b[49m\u001b[43m)\u001b[49m\n",
      "Input \u001b[1;32mIn [14]\u001b[0m, in \u001b[0;36mreplace_by_zero\u001b[1;34m(mylist)\u001b[0m\n\u001b[0;32m      1\u001b[0m \u001b[38;5;28;01mdef\u001b[39;00m \u001b[38;5;21mreplace_by_zero\u001b[39m(mylist):\n\u001b[1;32m----> 2\u001b[0m     \u001b[38;5;28;01mfor\u001b[39;00m idx,num \u001b[38;5;129;01min\u001b[39;00m \u001b[38;5;28;43menumerate\u001b[39;49m\u001b[43m(\u001b[49m\u001b[43mmylist\u001b[49m\u001b[43m)\u001b[49m:\n\u001b[0;32m      3\u001b[0m         \u001b[38;5;28;01mif\u001b[39;00m num \u001b[38;5;241m<\u001b[39m \u001b[38;5;241m0\u001b[39m:\n\u001b[0;32m      4\u001b[0m             mylist[idx] \u001b[38;5;241m=\u001b[39m \u001b[38;5;241m0\u001b[39m\n",
      "\u001b[1;31mTypeError\u001b[0m: 'int' object is not iterable"
     ]
    }
   ],
   "source": [
    "list(map(replace_by_zero,ano_list))"
   ]
  },
  {
   "cell_type": "code",
   "execution_count": 49,
   "id": "73b7c85c",
   "metadata": {},
   "outputs": [],
   "source": [
    "l =lambda num: num**2"
   ]
  },
  {
   "cell_type": "code",
   "execution_count": 50,
   "id": "75f7e74f",
   "metadata": {},
   "outputs": [
    {
     "data": {
      "text/plain": [
       "36"
      ]
     },
     "execution_count": 50,
     "metadata": {},
     "output_type": "execute_result"
    }
   ],
   "source": [
    "l(6)"
   ]
  },
  {
   "cell_type": "code",
   "execution_count": 51,
   "id": "1af20fb6",
   "metadata": {},
   "outputs": [],
   "source": [
    "ano_list = [-1,4,-5,6,7,-11,20,21,33,-77]"
   ]
  },
  {
   "cell_type": "code",
   "execution_count": 52,
   "id": "759e44b5",
   "metadata": {},
   "outputs": [
    {
     "data": {
      "text/plain": [
       "[1, 16, 25, 36, 49, 121, 400, 441, 1089, 5929]"
      ]
     },
     "execution_count": 52,
     "metadata": {},
     "output_type": "execute_result"
    }
   ],
   "source": [
    "list(map(l,ano_list))"
   ]
  },
  {
   "cell_type": "code",
   "execution_count": 56,
   "id": "6bf2a1b3",
   "metadata": {},
   "outputs": [
    {
     "data": {
      "text/plain": [
       "[4, 6, 20]"
      ]
     },
     "execution_count": 56,
     "metadata": {},
     "output_type": "execute_result"
    }
   ],
   "source": [
    "list(filter(lambda num: num %2 == 0, ano_list))"
   ]
  },
  {
   "cell_type": "code",
   "execution_count": 57,
   "id": "9bbfa769",
   "metadata": {},
   "outputs": [],
   "source": [
    "md_list = [2,12,-3,-5,17,22.0,99,-88]\n",
    "# use map to replace the odd numbers by 0. \n",
    "# and use filter to return the non-negative numbers "
   ]
  },
  {
   "cell_type": "code",
   "execution_count": 71,
   "id": "7a5d85ba",
   "metadata": {},
   "outputs": [],
   "source": [
    "def rnge(alist):\n",
    "    for i in range(len(alist)):\n",
    "        if alist[i]%2 != 0:\n",
    "            alist[i] = 0\n",
    "    return alist"
   ]
  },
  {
   "cell_type": "markdown",
   "id": "8590d8bc",
   "metadata": {},
   "source": [
    "### % = divided by, != means not equal to, == means equal to"
   ]
  },
  {
   "cell_type": "code",
   "execution_count": 74,
   "id": "ad8a2b75",
   "metadata": {},
   "outputs": [
    {
     "ename": "SyntaxError",
     "evalue": "invalid syntax (705308116.py, line 1)",
     "output_type": "error",
     "traceback": [
      "\u001b[1;36m  Input \u001b[1;32mIn [74]\u001b[1;36m\u001b[0m\n\u001b[1;33m    lc = [alist if alist[i]%2 != 0, for i in range(len(alist))]\u001b[0m\n\u001b[1;37m                                  ^\u001b[0m\n\u001b[1;31mSyntaxError\u001b[0m\u001b[1;31m:\u001b[0m invalid syntax\n"
     ]
    }
   ],
   "source": [
    "lc = [alist if alist[i]%2 != 0, for i in range(len(alist))]"
   ]
  },
  {
   "cell_type": "code",
   "execution_count": 73,
   "id": "b2866249",
   "metadata": {},
   "outputs": [
    {
     "ename": "TypeError",
     "evalue": "object of type 'int' has no len()",
     "output_type": "error",
     "traceback": [
      "\u001b[1;31m---------------------------------------------------------------------------\u001b[0m",
      "\u001b[1;31mTypeError\u001b[0m                                 Traceback (most recent call last)",
      "Input \u001b[1;32mIn [73]\u001b[0m, in \u001b[0;36m<cell line: 1>\u001b[1;34m()\u001b[0m\n\u001b[1;32m----> 1\u001b[0m \u001b[38;5;28;43mlist\u001b[39;49m\u001b[43m(\u001b[49m\u001b[38;5;28;43mmap\u001b[39;49m\u001b[43m(\u001b[49m\u001b[43mrnge\u001b[49m\u001b[43m,\u001b[49m\u001b[43mmd_list\u001b[49m\u001b[43m)\u001b[49m\u001b[43m)\u001b[49m\n",
      "Input \u001b[1;32mIn [71]\u001b[0m, in \u001b[0;36mrnge\u001b[1;34m(alist)\u001b[0m\n\u001b[0;32m      1\u001b[0m \u001b[38;5;28;01mdef\u001b[39;00m \u001b[38;5;21mrnge\u001b[39m(alist):\n\u001b[1;32m----> 2\u001b[0m     \u001b[38;5;28;01mfor\u001b[39;00m i \u001b[38;5;129;01min\u001b[39;00m \u001b[38;5;28mrange\u001b[39m(\u001b[38;5;28;43mlen\u001b[39;49m\u001b[43m(\u001b[49m\u001b[43malist\u001b[49m\u001b[43m)\u001b[49m):\n\u001b[0;32m      3\u001b[0m         \u001b[38;5;28;01mif\u001b[39;00m alist[i]\u001b[38;5;241m%\u001b[39m\u001b[38;5;241m2\u001b[39m \u001b[38;5;241m!=\u001b[39m \u001b[38;5;241m0\u001b[39m:\n\u001b[0;32m      4\u001b[0m             alist[i] \u001b[38;5;241m=\u001b[39m \u001b[38;5;241m0\u001b[39m\n",
      "\u001b[1;31mTypeError\u001b[0m: object of type 'int' has no len()"
     ]
    }
   ],
   "source": [
    "list(map(rnge,md_list))"
   ]
  },
  {
   "cell_type": "code",
   "execution_count": null,
   "id": "d10ff86d",
   "metadata": {},
   "outputs": [],
   "source": []
  }
 ],
 "metadata": {
  "kernelspec": {
   "display_name": "Python 3 (ipykernel)",
   "language": "python",
   "name": "python3"
  },
  "language_info": {
   "codemirror_mode": {
    "name": "ipython",
    "version": 3
   },
   "file_extension": ".py",
   "mimetype": "text/x-python",
   "name": "python",
   "nbconvert_exporter": "python",
   "pygments_lexer": "ipython3",
   "version": "3.9.12"
  }
 },
 "nbformat": 4,
 "nbformat_minor": 5
}
